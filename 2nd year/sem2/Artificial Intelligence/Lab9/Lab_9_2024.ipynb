{
 "cells": [
  {
   "attachments": {},
   "cell_type": "markdown",
   "source": [
    "## Lab. 12\n",
    "\n",
    "### Solve the following problem using Genetic Algorithms:\n",
    "\n",
    "\n",
    "Problem: Weighted N-Queen Problem\n",
    "\n",
    "\n",
    "You are given an N×N chessboard, and each cell of the board has an associated weight. Your task is to find a valid placement of N queens such that the total weight of the queens is maximized, and no two queens threaten each other.\n",
    "\n"
   ],
   "metadata": {}
  },
  {
   "attachments": {},
   "cell_type": "markdown",
   "source": [
    "\n",
    "\n",
    "In the traditional N-Queen Problem, the goal is to place N queens on an N×N chessboard in such a way that no two queens threaten each other. In this variation, we introduce weights to the queens and aim to find a placement that maximizes the total weight of the queens while satisfying the constraint of non-threatening positions.\n",
    "\n",
    "\n",
    "Constraints:\n",
    "\n",
    "1. There should be exactly one queen in each row and each column.\n",
    "2. No two queens should be placed in the same diagonal, i.e., they should not threaten each other.\n",
    "3. The placement should maximize the total weight of the queens.\n",
    "\n",
    "\n",
    "Representation:\n",
    "\n",
    "Use a permutation-based representation. Each permutation represents the column position of the queen for each row. \n",
    "\n",
    "For example, if N=4, a valid permutation [2, 4, 1, 3] indicates that the queen in the first row is placed in column 2, the queen in the second row is placed in column 4, and so on.\n",
    "\n",
    "\n",
    "Genetic Algorithm Steps:\n",
    "\n",
    "1. *Initialization*: Generate an initial population of permutations randomly.\n",
    "\n",
    "2. *Fitness Evaluation*: Evaluate the fitness of each permutation by calculating the total weight of the queens while considering the non-threatening positions.\n",
    "\n",
    "3. *Selection*: Select a subset of permutations from the population based on their fitness, using selection techniques like tournament selection or roulette wheel selection.\n",
    "\n",
    "4. *Crossover*: Perform crossover (recombination) on the selected permutations to create new offspring permutations.\n",
    "\n",
    "5. *Mutation*: Introduce random changes (mutations) in the offspring permutations to maintain diversity in the population.\n",
    "\n",
    "6. *Fitness Evaluation for the new individuals*: Evaluate the fitness of the new population.\n",
    "\n",
    "7. *Form the new population*: Select the surviving individuals based on scores, with chances direct proportional with their performance.\n",
    "\n",
    "8. Repeat steps 3-7 for a certain number of generations or until a termination condition is met (e.g., a maximum number of iterations or a satisfactory solution is found).\n",
    "\n",
    "\n",
    "9. *Termination*: Return the best-performing individual (permutation) found as the solution to the problem.\n",
    "\n",
    "Note: The fitness function used in this problem should calculate the total weight of the queens based on the positions specified by the permutation. Additionally, the fitness function should penalize solutions that violate the non-threatening constraint by assigning a lower fitness score to such permutations."
   ],
   "metadata": {}
  },
  {
   "cell_type": "code",
   "outputs": [],
   "source": [
    "import random"
   ],
   "metadata": {
    "collapsed": false,
    "ExecuteTime": {
     "end_time": "2024-04-28T15:45:35.723955Z",
     "start_time": "2024-04-28T15:45:35.717586Z"
    }
   },
   "execution_count": 21
  },
  {
   "cell_type": "code",
   "outputs": [
    {
     "data": {
      "text/plain": "[[4, 2, 3, 1], [4, 1, 3, 2], [2, 1, 3, 4], [3, 2, 4, 1], [2, 3, 1, 4]]"
     },
     "execution_count": 22,
     "metadata": {},
     "output_type": "execute_result"
    }
   ],
   "source": [
    "def generate_population(population_size, N):\n",
    "    population = []\n",
    "    for _ in range(population_size):\n",
    "        population.append(random.sample(range(1, N+1), N))\n",
    "        \n",
    "    return population\n",
    "\n",
    "#Test\n",
    "generate_population(5, 4)"
   ],
   "metadata": {
    "collapsed": false,
    "ExecuteTime": {
     "end_time": "2024-04-28T15:45:35.752353Z",
     "start_time": "2024-04-28T15:45:35.743968Z"
    }
   },
   "execution_count": 22
  },
  {
   "cell_type": "code",
   "outputs": [
    {
     "data": {
      "text/plain": "[100, 100]"
     },
     "execution_count": 23,
     "metadata": {},
     "output_type": "execute_result"
    }
   ],
   "source": [
    "def evaluate_fitness(population, weights):\n",
    "    fitness_scores = []\n",
    "    for individual in population:\n",
    "        fitness_score = 10*sum([weights[individual[i]-1] for i in range(len(individual))])\n",
    "        for i in range(len(individual)):\n",
    "            for j in range(i+1, len(individual)):\n",
    "                if abs(i-j) == abs(individual[i]-individual[j]):\n",
    "                    fitness_score -= weights[individual[i]-1]\n",
    "                    fitness_score -= weights[individual[j]-1]\n",
    "        fitness_scores.append(fitness_score)\n",
    "        \n",
    "    return fitness_scores\n",
    "\n",
    "#Test\n",
    "evaluate_fitness([[2, 4, 1, 3], [3, 1, 4, 2]], [1, 2, 3, 4])"
   ],
   "metadata": {
    "collapsed": false,
    "ExecuteTime": {
     "end_time": "2024-04-28T15:45:35.801146Z",
     "start_time": "2024-04-28T15:45:35.790348Z"
    }
   },
   "execution_count": 23
  },
  {
   "cell_type": "code",
   "outputs": [],
   "source": [
    "def select_parents(population, fitness_scores, num_parents):\n",
    "    selected_parents = []\n",
    "    for _ in range(num_parents):\n",
    "        selected_index = random.choices(range(len(population)), weights=fitness_scores)[0]\n",
    "        selected_parents.append(population[selected_index])\n",
    "        \n",
    "    return selected_parents"
   ],
   "metadata": {
    "collapsed": false,
    "ExecuteTime": {
     "end_time": "2024-04-28T15:45:35.812495Z",
     "start_time": "2024-04-28T15:45:35.804158Z"
    }
   },
   "execution_count": 24
  },
  {
   "cell_type": "code",
   "outputs": [],
   "source": [
    "def crossover(parent1, parent2):\n",
    "    crossover_point = random.randint(1, len(parent1)-1)\n",
    "    child1 = parent1[:crossover_point] + [gene for gene in parent2 if gene not in parent1[:crossover_point]]\n",
    "    child2 = parent2[:crossover_point] + [gene for gene in parent1 if gene not in parent2[:crossover_point]]\n",
    "    \n",
    "    return child1, child2"
   ],
   "metadata": {
    "collapsed": false,
    "ExecuteTime": {
     "end_time": "2024-04-28T15:45:35.826366Z",
     "start_time": "2024-04-28T15:45:35.815505Z"
    }
   },
   "execution_count": 25
  },
  {
   "cell_type": "code",
   "outputs": [],
   "source": [
    "def mutate(individual, mutation_rate):\n",
    "    if random.random() < mutation_rate:\n",
    "        mutation_point = random.sample(range(len(individual)), 2)\n",
    "        individual[mutation_point[0]], individual[mutation_point[1]] = individual[mutation_point[1]], individual[mutation_point[0]]\n",
    "        \n",
    "    return individual"
   ],
   "metadata": {
    "collapsed": false,
    "ExecuteTime": {
     "end_time": "2024-04-28T15:45:35.840119Z",
     "start_time": "2024-04-28T15:45:35.828378Z"
    }
   },
   "execution_count": 26
  },
  {
   "cell_type": "code",
   "outputs": [],
   "source": [
    "def genetic_algorithm(N, weights, population_size=100, num_generations=100, num_parents=10, mutation_rate=0.1):\n",
    "    population = generate_population(population_size, N)\n",
    "    \n",
    "    for _ in range(num_generations):\n",
    "        fitness_scores = evaluate_fitness(population, weights)\n",
    "        selected_parents = select_parents(population, fitness_scores, num_parents)\n",
    "        \n",
    "        new_population = []\n",
    "        for i in range(0, len(selected_parents), 2):\n",
    "            parent1, parent2 = selected_parents[i], selected_parents[i+1]\n",
    "            child1, child2 = crossover(parent1, parent2)\n",
    "            child1 = mutate(child1, mutation_rate)\n",
    "            child2 = mutate(child2, mutation_rate)\n",
    "            new_population.extend([child1, child2])\n",
    "            \n",
    "        population = new_population\n",
    "        \n",
    "    fitness_scores = evaluate_fitness(population, weights)\n",
    "    best_individual_index = fitness_scores.index(max(fitness_scores))\n",
    "    \n",
    "    return population[best_individual_index]"
   ],
   "metadata": {
    "collapsed": false,
    "ExecuteTime": {
     "end_time": "2024-04-28T15:45:35.854392Z",
     "start_time": "2024-04-28T15:45:35.843133Z"
    }
   },
   "execution_count": 27
  },
  {
   "cell_type": "code",
   "outputs": [
    {
     "data": {
      "text/plain": "[4, 1, 7, 5, 2, 8, 3, 6]"
     },
     "execution_count": 28,
     "metadata": {},
     "output_type": "execute_result"
    }
   ],
   "source": [
    "N = 8\n",
    "weights = [1, 2, 3, 4, 5, 6, 7, 8]\n",
    "solution = genetic_algorithm(N, weights)\n",
    "solution"
   ],
   "metadata": {
    "collapsed": false,
    "ExecuteTime": {
     "end_time": "2024-04-28T15:45:35.890671Z",
     "start_time": "2024-04-28T15:45:35.856386Z"
    }
   },
   "execution_count": 28
  }
 ],
 "metadata": {
  "kernelspec": {
   "name": "python3",
   "language": "python",
   "display_name": "Python 3 (ipykernel)"
  },
  "language_info": {
   "codemirror_mode": {
    "name": "python",
    "version": 3
   },
   "file_extension": ".py",
   "mimetype": "text/x-python",
   "name": "python",
   "nbconvert_exporter": "python",
   "pygments_lexer": "ipython3",
   "version": "3.8"
  },
  "orig_nbformat": 4,
  "kernel_info": {
   "name": "python"
  },
  "nteract": {
   "version": "nteract-front-end@1.0.0"
  }
 },
 "nbformat": 4,
 "nbformat_minor": 2
}
