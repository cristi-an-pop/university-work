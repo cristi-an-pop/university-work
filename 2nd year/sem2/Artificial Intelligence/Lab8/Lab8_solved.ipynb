{
 "cells": [
  {
   "attachments": {},
   "cell_type": "markdown",
   "source": [
    "# Lab 8: Evolutionary computation\n",
    "\n",
    "### Consider the following example:\n",
    "\n",
    "Determine the minimum of the function $f(x)= x_1^2+...+x_n^2$ with $x_i \\in [-5.12, 5.12]$, $i \\in \\overline{(1, n)}$\n",
    "\n",
    "We have an example of steady state genetic algorithm with:  representation an array of real numbers; 100 individuals; crossover $$child = \\alpha \\cdot (parent1 - parent2) + parent2 ;$$ mutation - reinitialise on a random position the individual's value."
   ],
   "metadata": {}
  },
  {
   "cell_type": "code",
   "source": [
    "from random import randint, random\n",
    "from operator import add\n",
    "from math import cos, pi\n",
    "\n",
    "\n",
    "def individual(length, vmin, vmax):\n",
    "    '''\n",
    "    Create a member of the population - an individual\n",
    "\n",
    "    length: the number of genes (components)\n",
    "    vmin: the minimum possible value \n",
    "    vmax: the maximum possible value \n",
    "    '''\n",
    "    return [ (random()*(vmax-vmin)+vmin) for x in range(length) ]\n",
    "    \n",
    "def population(count, length, vmin, vmax):\n",
    "    \"\"\"\n",
    "    Create a number of individuals (i.e. a population).\n",
    "\n",
    "    count: the number of individuals in the population\n",
    "    length: the number of values per individual\n",
    "    vmin: the minimum possible value \n",
    "    vmax: the maximum possible value \n",
    "    \"\"\"\n",
    "    return [ individual(length, vmin, vmax) for x in range(count) ]\n",
    "\n",
    "def fitness(individual):\n",
    "    \"\"\"\n",
    "    Determine the fitness of an individual. Lower is better.(min problem)\n",
    "    For this problem we have the Rastrigin function\n",
    "    \n",
    "    individual: the individual to evaluate\n",
    "    \"\"\"\n",
    "    n=len(individual)\n",
    "    f=0;\n",
    "    for i in range(n):\n",
    "        f=f+individual[i]*individual[i]\n",
    "    return f\n",
    "    \n",
    "def mutate(individual, pM, vmin, vmax): \n",
    "    '''\n",
    "    Performs a mutation on an individual with the probability of pM.\n",
    "    If the event will take place, at a random position a new value will be\n",
    "    generated in the interval [vmin, vmax]\n",
    "\n",
    "    individual:the individual to be mutated\n",
    "    pM: the probability the mutation to occure\n",
    "    vmin: the minimum possible value \n",
    "    vmax: the maximum possible value\n",
    "    '''\n",
    "    if pM > random():\n",
    "            p = randint(0, len(individual)-1)\n",
    "            individual[p] = random()*(vmax-vmin)+vmin\n",
    "    return individual\n",
    "    \n",
    "def crossover(parent1, parent2):\n",
    "    '''\n",
    "    crossover between 2 parents\n",
    "    '''\n",
    "    child=[]\n",
    "    alpha=random()\n",
    "    for x in range(len(parent1)):\n",
    "        child.append(alpha*(parent1[x]-parent2[x])+parent2[x])\n",
    "    return child\n",
    "\n",
    "def iteration(pop, pM, vmin, vmax):\n",
    "    '''\n",
    "    an iteration\n",
    "\n",
    "    pop: the current population\n",
    "    pM: the probability the mutation to occure\n",
    "    vmin: the minimum possible value \n",
    "    vmax: the maximum possible value\n",
    "    '''\n",
    "    i1=randint(0,len(pop)-1)\n",
    "    i2=randint(0,len(pop)-1)\n",
    "    if (i1!=i2):\n",
    "        c=crossover(pop[i1],pop[i2])\n",
    "        c=mutate(c, pM, vmin, vmax)\n",
    "        f1=fitness(pop[i1])\n",
    "        f2=fitness(pop[i2])\n",
    "        '''\n",
    "        the repeated evaluation of the parents can be avoided\n",
    "        if  next to the values stored in the individuals we \n",
    "        keep also their fitnesses \n",
    "        '''\n",
    "        fc=fitness(c)\n",
    "        if(f1>f2) and (f1>fc):\n",
    "            pop[i1]=c\n",
    "        if(f2>f1) and (f2>fc):\n",
    "            pop[i2]=c\n",
    "    return pop\n",
    "\n",
    "def main(noIteratii=10000):\n",
    "    #PARAMETERS:\n",
    "    \n",
    "    #population size\n",
    "    dimPopulation = 100\n",
    "    #individual size\n",
    "    dimIndividual = 2\n",
    "    #the boundries of the search interval\n",
    "    vmin = -5.12\n",
    "    vmax = 5.12\n",
    "    #the mutation probability\n",
    "    pM=0.01\n",
    "    \n",
    "    P = population(dimPopulation, dimIndividual, vmin, vmax)\n",
    "    for i in range(noIteratii):\n",
    "        P = iteration(P, pM, vmin, vmax)\n",
    "\n",
    "    #print the best individual\n",
    "    graded = [ (fitness(x), x) for x in P]\n",
    "    graded =  sorted(graded)\n",
    "    result=graded[0]\n",
    "    fitnessOptim=result[0]\n",
    "    individualOptim=result[1]\n",
    "    print('Result: The detected minimum point after %d iterations is f(%3.2f %3.2f) = %3.2f'% \\\n",
    "          (noIteratii,individualOptim[0],individualOptim[1], fitnessOptim) )\n",
    "        \n",
    "main()"
   ],
   "outputs": [
    {
     "name": "stdout",
     "output_type": "stream",
     "text": [
      "Result: The detected minimum point after 10000 iterations is f(0.00 -0.00) = 0.00\n"
     ]
    }
   ],
   "execution_count": 121,
   "metadata": {
    "ExecuteTime": {
     "end_time": "2024-04-26T06:10:05.648367Z",
     "start_time": "2024-04-26T06:10:05.604637Z"
    }
   }
  },
  {
   "attachments": {},
   "cell_type": "markdown",
   "source": [
    "Exercise 1:  Construct a similar algorithm to the one provided as an example for the Bukin function N.6 (search the internet for this function).\n"
   ],
   "metadata": {}
  },
  {
   "cell_type": "code",
   "source": [
    "import numpy as np\n",
    "import random\n",
    "from random import randint\n",
    "\n",
    "def individual(vminx, vmaxx, vminy, vmaxy):\n",
    "    '''\n",
    "    Create a member of the population - an individual\n",
    "    \n",
    "    :param vminx: the minimum possible value for x \n",
    "    :param vmaxx: the maximum possible value for x\n",
    "    :param vminy: the minimum possible value for y\n",
    "    :param vmaxy: the maximum possible value for y\n",
    "    :return: \n",
    "    '''\n",
    "    return [(random.random() * (vmaxx - vminx) + vminx), (random.random() * (vmaxy - vminy) + vminy)]\n",
    "\n",
    "def population(count, vminx, vmaxx, vminy, vmaxy):\n",
    "    '''\n",
    "    Create a number of individuals (i.e. a population).\n",
    "    \n",
    "    :param count: the number of individuals in the population\n",
    "    :param vminx: the minimum possible value for x\n",
    "    :param vmaxx: the maximum possible value for x\n",
    "    :param vminy: the minimum possible value for y\n",
    "    :param vmaxy: the maximum possible value for y\n",
    "    :return: \n",
    "    '''\n",
    "    return [individual(vminx, vmaxx, vminy, vmaxy) for _ in range(count)]\n",
    "\n",
    "def fitness(individual):\n",
    "    '''\n",
    "    Determine the fitness of an individual. Lower is better.(min problem)\n",
    "    For this problem we have the Bukin function N.6\n",
    "\n",
    "    :param individual: the individual to evaluate\n",
    "    :return: bukin function value\n",
    "    '''\n",
    "    x, y = individual\n",
    "    return 100 * np.sqrt(np.abs(y - 0.01 * x ** 2)) + 0.01 * np.abs(x + 10)\n",
    "\n",
    "def mutate(individual, pM, vminx, vmaxx, vminy, vmaxy):\n",
    "    '''\n",
    "    Performs a mutation on an individual with the probability of pM.\n",
    "    If the event will take place, at a random position a new value will be\n",
    "    generated in the interval [vmin, vmax]\n",
    "    \n",
    "    :param individual: the individual to be mutated\n",
    "    :param pM: the probability the mutation to occure\n",
    "    :param vminx: the minimum possible value for x\n",
    "    :param vmaxx: the maximum possible value for x\n",
    "    :param vminy: the minimum possible value for y\n",
    "    :param vmaxy: the maximum possible value for y\n",
    "    '''\n",
    "    if random.random() < pM:\n",
    "        p = randint(0, len(individual) - 1)\n",
    "        if p == 0:\n",
    "            individual[p] = random.random() * (vmaxx - vminx) + vminx\n",
    "        else:\n",
    "            individual[p] = random.random() * (vmaxy - vminy) + vminy\n",
    "    return individual\n",
    "\n",
    "def crossover(parent1, parent2):\n",
    "    alpha = random.random()\n",
    "    return [alpha * parent1[i] + (1 - alpha) * parent2[i] for i in range(len(parent1))]\n",
    "\n",
    "def iteration(pop, pM, vminx, vmaxx, vminy, vmaxy):\n",
    "    i1 = randint(0, len(pop) - 1)\n",
    "    i2 = randint(0, len(pop) - 1)\n",
    "\n",
    "    if i1 != i2:\n",
    "        child = crossover(pop[i1], pop[i2])\n",
    "        child = mutate(child, pM, vminx, vmaxx, vminy, vmaxy)\n",
    "\n",
    "        f1 = fitness(pop[i1])\n",
    "        f2 = fitness(pop[i2])\n",
    "        fc = fitness(child)\n",
    "\n",
    "        if f1 > f2 and f1 > fc:\n",
    "            pop[i1] = child\n",
    "        elif f2 > f1 and f2 > fc:\n",
    "            pop[i2] = child\n",
    "\n",
    "    return pop\n",
    "\n",
    "def main(noIteratii=10000):\n",
    "    # Parameters\n",
    "    dimPopulation = 100\n",
    "    vminx = -16\n",
    "    vmaxx = -14\n",
    "    vminy = 1\n",
    "    vmaxy = 3\n",
    "    pM = 0.01\n",
    "\n",
    "    P = population(dimPopulation, vminx, vmaxx, vminy, vmaxy)\n",
    "\n",
    "    for i in range(noIteratii):\n",
    "        P = iteration(P, pM, vminx, vmaxx, vminy, vmaxy)\n",
    "\n",
    "    graded = [(fitness(x), x) for x in P]\n",
    "    graded = sorted(graded)\n",
    "\n",
    "    result = graded[0]\n",
    "    fitnessOptim = result[0]\n",
    "    individualOptim = result[1]\n",
    "\n",
    "    print(f\"Result: The detected minimum point after {noIteratii} iterations is f({individualOptim[0]:.2f}, {individualOptim[1]:.2f}) = {fitnessOptim:.2f}\")\n",
    "\n",
    "\n",
    "main()"
   ],
   "outputs": [
    {
     "name": "stdout",
     "output_type": "stream",
     "text": [
      "Result: The detected minimum point after 10000 iterations is f(-15.12, 2.29) = 0.05\n"
     ]
    }
   ],
   "execution_count": 122,
   "metadata": {
    "ExecuteTime": {
     "end_time": "2024-04-26T06:10:06.132749Z",
     "start_time": "2024-04-26T06:10:05.952379Z"
    }
   }
  },
  {
   "attachments": {},
   "cell_type": "markdown",
   "source": [
    "Consider the knapsack problem:\n",
    "\n",
    "Consider a Knapsack with a total volum equal with $V_{max}$.\n",
    "\n",
    "There are $n$ objects, with values $(p_i)_{n}$ and volumes $(v_i)_n$.\n",
    "\n",
    "Solve this problem using a generationist Genetic Algorithm, with a binary representation.\n",
    "\n",
    "Exercise 2: Initialization\n",
    "Objective: Implement the initialization step of a genetic algorithm."
   ],
   "metadata": {}
  },
  {
   "cell_type": "code",
   "source": [
    "import random\n",
    "\n",
    "def initialize_population(population_size, chromosome_length):\n",
    "    # generate random a population with population_size number of individuals\n",
    "    # each individual with the size chromosome_length\n",
    "    # IN:  population_size, chromosome_length\n",
    "    # OUT: population\n",
    "    population = []\n",
    "    for _ in range(population_size):\n",
    "        individual = [random.randint(0, 1) for _ in range(chromosome_length)]\n",
    "        population.append(individual)\n",
    "    return population\n",
    "\n",
    "# Test the initialization step\n",
    "population_size = 10\n",
    "chromosome_length = 8\n",
    "population = initialize_population(population_size, chromosome_length)\n",
    "print(population)\n"
   ],
   "outputs": [
    {
     "name": "stdout",
     "output_type": "stream",
     "text": [
      "[[1, 1, 0, 1, 1, 0, 0, 0], [0, 0, 0, 1, 1, 0, 0, 1], [0, 1, 0, 1, 1, 1, 1, 1], [0, 0, 1, 1, 1, 0, 1, 1], [1, 1, 0, 1, 1, 0, 0, 0], [0, 0, 1, 1, 0, 1, 0, 0], [1, 1, 1, 1, 1, 1, 0, 0], [1, 1, 0, 1, 1, 1, 1, 0], [1, 1, 0, 1, 0, 1, 0, 1], [0, 0, 0, 0, 0, 0, 1, 0]]\n"
     ]
    }
   ],
   "execution_count": 123,
   "metadata": {
    "ExecuteTime": {
     "end_time": "2024-04-26T06:10:06.143501Z",
     "start_time": "2024-04-26T06:10:06.135760Z"
    }
   }
  },
  {
   "attachments": {},
   "cell_type": "markdown",
   "source": [
    "Exercise 3: Fitness Evaluation\n",
    "\n",
    "Objective: Implement the fitness evaluation step of a genetic algorithm."
   ],
   "metadata": {}
  },
  {
   "cell_type": "code",
   "source": [
    "def select_fittest(population, volumes, values, limit, population_size):\n",
    "    fitness_scores = evaluate_fitness(population, volumes, values, limit)\n",
    "    sorted_population = [x for _, x in sorted(zip(fitness_scores, population), reverse=True)]\n",
    "    return sorted_population[:population_size]\n",
    "\n",
    "def evaluate_fitness(population, values, volumes, vmax):\n",
    "    # evaluate the fitness of each individual in the population\n",
    "    # IN:  population\n",
    "    # OUT: fitness_scores\n",
    "    fitness_scores = []\n",
    "    for individual in population:\n",
    "        total_value = 0\n",
    "        total_volume = 0\n",
    "        for i in range(len(individual)):\n",
    "            if individual[i] == 1:  # Include the item in the knapsack\n",
    "                total_value += values[i]\n",
    "                total_volume += volumes[i]\n",
    "        # Check if total volume exceeds maximum volume\n",
    "        if total_volume > vmax:\n",
    "            fitness_scores.append(0)  # Penalize if volume exceeds maximum\n",
    "        else:\n",
    "            fitness_scores.append(total_value)  # Fitness is the total value\n",
    "    return fitness_scores\n",
    "\n",
    "# Test the fitness evaluation step\n",
    "population_size = 10\n",
    "chromosome_length = 8\n",
    "population = initialize_population(population_size, chromosome_length)\n",
    "\n",
    "# Example values and volumes for objects\n",
    "values = [10, 20, 30, 40, 50, 60, 70, 80]\n",
    "volumes = [5, 10, 15, 20, 25, 30, 35, 40]\n",
    "Vmax = 100\n",
    "\n",
    "fitness_scores = evaluate_fitness(population, values, volumes, Vmax)\n",
    "print(fitness_scores)\n"
   ],
   "outputs": [
    {
     "name": "stdout",
     "output_type": "stream",
     "text": [
      "[90, 180, 130, 80, 150, 110, 0, 180, 200, 100]\n"
     ]
    }
   ],
   "execution_count": 124,
   "metadata": {
    "ExecuteTime": {
     "end_time": "2024-04-26T06:10:06.154427Z",
     "start_time": "2024-04-26T06:10:06.145514Z"
    }
   }
  },
  {
   "attachments": {},
   "cell_type": "markdown",
   "source": [
    "Exercise 4: Selection\n",
    "\n",
    "Objective: Implement the selection step of a genetic algorithm."
   ],
   "metadata": {}
  },
  {
   "cell_type": "code",
   "source": [
    "def select_parents(population, fitness_scores):\n",
    "    # select two parents from the population based on the fitness - \n",
    "    # the better the fitness, the higher the chance to be selected\n",
    "    # IN:  population, fitness_scores\n",
    "    # OUT: selected_parents\n",
    "    selected_parents = []\n",
    "\n",
    "    # Calculate total fitness\n",
    "    total_fitness = sum(fitness_scores)\n",
    "    \n",
    "    # Perform roulette wheel selection\n",
    "    for _ in range(2):  # Select two parents\n",
    "        # Generate a random number between 0 and the total fitness\n",
    "        rand_num = random.uniform(0, total_fitness)\n",
    "    \n",
    "        # Initialize cumulative fitness\n",
    "        cumulative_fitness = 0\n",
    "    \n",
    "        # Select an individual based on the random number\n",
    "        for i, fitness in enumerate(fitness_scores):\n",
    "            cumulative_fitness += fitness\n",
    "            if cumulative_fitness >= rand_num:\n",
    "                selected_parents.append(population[i])\n",
    "                break\n",
    "    \n",
    "    return selected_parents\n",
    "    \n",
    "# Test the selection step\n",
    "parents = select_parents(population, fitness_scores)\n",
    "print(parents)\n"
   ],
   "outputs": [
    {
     "name": "stdout",
     "output_type": "stream",
     "text": [
      "[[1, 1, 0, 1, 1, 1, 0, 0], [0, 1, 0, 0, 0, 1, 1, 0]]\n"
     ]
    }
   ],
   "execution_count": 125,
   "metadata": {
    "ExecuteTime": {
     "end_time": "2024-04-26T06:10:06.165390Z",
     "start_time": "2024-04-26T06:10:06.157520Z"
    }
   }
  },
  {
   "attachments": {},
   "cell_type": "markdown",
   "source": [
    "Exercise 5: Crossover\n",
    "\n",
    "Objective: Implement the crossover step of a genetic algorithm."
   ],
   "metadata": {}
  },
  {
   "cell_type": "code",
   "source": [
    "def crossover(parents):\n",
    "    # create two new offspring by combining the parents\n",
    "    # IN:  parents\n",
    "    # OUT: offspring\n",
    "    parent1, parent2 = parents\n",
    "\n",
    "    # Choose a random crossover point\n",
    "    crossover_point = random.randint(1, len(parent1) - 1)\n",
    "\n",
    "    # Create offspring by combining the parents' chromosomes\n",
    "    offspring1 = parent1[:crossover_point] + parent2[crossover_point:]\n",
    "    offspring2 = parent2[:crossover_point] + parent1[crossover_point:]\n",
    "\n",
    "    return [offspring1, offspring2]\n",
    "\n",
    "# Test the crossover step\n",
    "offspring = crossover(parents)\n",
    "print(offspring)\n"
   ],
   "outputs": [
    {
     "name": "stdout",
     "output_type": "stream",
     "text": [
      "[[1, 1, 0, 1, 0, 1, 1, 0], [0, 1, 0, 0, 1, 1, 0, 0]]\n"
     ]
    }
   ],
   "execution_count": 126,
   "metadata": {
    "ExecuteTime": {
     "end_time": "2024-04-26T06:10:06.175489Z",
     "start_time": "2024-04-26T06:10:06.168404Z"
    }
   }
  },
  {
   "attachments": {},
   "cell_type": "markdown",
   "source": [
    "Exercise 6: Mutation\n",
    "\n",
    "Objective: Implement the mutation step of a genetic algorithm."
   ],
   "metadata": {}
  },
  {
   "cell_type": "code",
   "source": [
    "def mutate(chromosome, mutation_rate):\n",
    "    # mutate the chromosome by randomly flipping bits\n",
    "    # IN:  chromosome, mutation_rate\n",
    "    # OUT: mutated_chromosome\n",
    "    mutated_chromosome = []\n",
    "    for gene in chromosome:\n",
    "        if random.random() < mutation_rate:\n",
    "            # Flip the bit if the random number is less than the mutation rate\n",
    "            mutated_gene = 1 - gene  # Toggle the bit (0 becomes 1, 1 becomes 0)\n",
    "        else:\n",
    "            mutated_gene = gene\n",
    "        mutated_chromosome.append(mutated_gene)\n",
    "    return mutated_chromosome\n",
    "\n",
    "# Test the mutation step\n",
    "mutation_rate = 0.1\n",
    "mutated_offspring = [mutate(child, mutation_rate) for child in offspring]\n",
    "print(mutated_offspring)\n"
   ],
   "outputs": [
    {
     "name": "stdout",
     "output_type": "stream",
     "text": [
      "[[1, 1, 0, 1, 0, 1, 1, 0], [0, 1, 0, 0, 1, 1, 0, 0]]\n"
     ]
    }
   ],
   "execution_count": 127,
   "metadata": {
    "ExecuteTime": {
     "end_time": "2024-04-26T06:10:06.183536Z",
     "start_time": "2024-04-26T06:10:06.177499Z"
    }
   }
  },
  {
   "attachments": {},
   "cell_type": "markdown",
   "source": [
    "Exercise 7: Complete Genetic Algorithm\n",
    "\n",
    "Objective: Combine all the steps of a genetic algorithm to solve a specific problem."
   ],
   "metadata": {}
  },
  {
   "cell_type": "code",
   "source": [
    "def genetic_algorithm(population_size, chromosome_length, generations, mutation_rate, values, volumes, vmax):\n",
    "    \n",
    "    # complete genetic algorithm\n",
    "    # IN:  population_size, chromosome_length, generations, mutation_rate\n",
    "    # OUT: population\n",
    "\n",
    "\n",
    "    # initialize the population\n",
    "    \n",
    "    population = initialize_population(population_size, chromosome_length)\n",
    "\n",
    "\n",
    "    for _ in range(generations):\n",
    "        # Fitness evaluation\n",
    "        fitness_scores = evaluate_fitness(population, values, volumes, vmax)\n",
    "    \n",
    "        # Selection\n",
    "        selected_parents = select_parents(population, fitness_scores)\n",
    "    \n",
    "        # Crossover\n",
    "        offspring = crossover(selected_parents)\n",
    "    \n",
    "        # Mutation\n",
    "        mutated_offspring = [mutate(child, mutation_rate) for child in offspring]\n",
    "    \n",
    "        # Combine current population and mutated offspring\n",
    "        combined_population = population + mutated_offspring\n",
    "    \n",
    "        # Select the fittest individuals for the next generation\n",
    "        population = select_fittest(combined_population, volumes, values, vmax, population_size)\n",
    "\n",
    "    return population\n",
    "\n",
    "# Test the complete genetic algorithm\n",
    "population_size = 10\n",
    "chromosome_length = 8\n",
    "generations = 100\n",
    "mutation_rate = 0.1\n",
    "values = [10, 20, 30, 40, 50, 60, 70, 80]\n",
    "volumes = [5, 10, 15, 20, 25, 30, 35, 40]\n",
    "Vmax = 10000\n",
    "\n",
    "final_population = genetic_algorithm(population_size, chromosome_length, generations, mutation_rate, values, volumes, Vmax)\n",
    "print(final_population)\n"
   ],
   "outputs": [
    {
     "name": "stdout",
     "output_type": "stream",
     "text": [
      "[[1, 1, 1, 1, 1, 1, 1, 1], [1, 1, 1, 1, 1, 1, 1, 1], [1, 1, 1, 1, 1, 1, 1, 1], [1, 1, 1, 1, 1, 1, 1, 1], [1, 1, 1, 1, 1, 1, 1, 1], [1, 1, 1, 1, 1, 1, 1, 1], [1, 1, 1, 1, 1, 1, 1, 1], [1, 1, 1, 1, 1, 1, 1, 1], [1, 1, 1, 1, 1, 1, 1, 1], [1, 1, 1, 1, 1, 1, 1, 1]]\n"
     ]
    }
   ],
   "execution_count": 128,
   "metadata": {
    "ExecuteTime": {
     "end_time": "2024-04-26T06:10:06.196229Z",
     "start_time": "2024-04-26T06:10:06.185174Z"
    }
   }
  },
  {
   "attachments": {},
   "cell_type": "markdown",
   "source": [
    "Exercise 8: Extract the result from the final population\n",
    "\n",
    "Objective: Get the best individual from the final population.\n"
   ],
   "metadata": {}
  },
  {
   "cell_type": "code",
   "source": [
    "# determine the best individual from the final population and print it out\n",
    "def evaluate_individual(individual, values, volumes, Vmax):\n",
    "    total_value = 0\n",
    "    total_volume = 0\n",
    "    for i in range(len(individual)):\n",
    "        if individual[i] == 1:\n",
    "            total_value += values[i]\n",
    "            total_volume += volumes[i]\n",
    "    if total_volume > Vmax:\n",
    "        return 0\n",
    "    else:\n",
    "        return total_value\n",
    "\n",
    "def extract_best_individual(final_population, values, volumes, Vmax):\n",
    "    best_individual = None\n",
    "    best_fitness = 0\n",
    "    for individual in final_population:\n",
    "        fitness = evaluate_individual(individual, values, volumes, Vmax)\n",
    "        if fitness > best_fitness:\n",
    "            best_individual = individual\n",
    "            best_fitness = fitness\n",
    "    return best_individual, best_fitness\n",
    "\n",
    "# Test extracting the best individual\n",
    "best_individual, best_fitness = extract_best_individual(final_population, values, volumes, Vmax)\n",
    "print(\"Best individual:\", best_individual)\n",
    "print(\"Best fitness:\", best_fitness)\n",
    "\n"
   ],
   "outputs": [
    {
     "name": "stdout",
     "output_type": "stream",
     "text": [
      "Best individual: [1, 1, 1, 1, 1, 1, 1, 1]\n",
      "Best fitness: 360\n"
     ]
    }
   ],
   "execution_count": 129,
   "metadata": {
    "ExecuteTime": {
     "end_time": "2024-04-26T06:10:06.206456Z",
     "start_time": "2024-04-26T06:10:06.197242Z"
    }
   }
  }
 ],
 "metadata": {
  "kernel_info": {
   "name": "python"
  },
  "kernelspec": {
   "name": "python3",
   "language": "python",
   "display_name": "Python 3 (ipykernel)"
  },
  "language_info": {
   "codemirror_mode": {
    "name": "python",
    "version": 3
   },
   "file_extension": ".py",
   "mimetype": "text/x-python",
   "name": "python",
   "nbconvert_exporter": "python",
   "pygments_lexer": "ipython3",
   "version": "3.8"
  },
  "nteract": {
   "version": "nteract-front-end@1.0.0"
  },
  "orig_nbformat": 4
 },
 "nbformat": 4,
 "nbformat_minor": 2
}
