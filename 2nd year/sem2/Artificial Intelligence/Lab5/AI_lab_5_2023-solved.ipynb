{
 "cells": [
  {
   "cell_type": "markdown",
   "id": "b8210b19",
   "metadata": {},
   "source": [
    "## A.I. Assignment 5\n",
    "\n",
    "## Learning Goals\n",
    "\n",
    "By the end of this lab, you should be able to:\n",
    "* Get more familiar with tensors in pytorch \n",
    "* Create a simple multilayer perceptron model with pytorch\n",
    "* Visualise the parameters\n",
    "\n",
    "\n",
    "### Task\n",
    "\n",
    "Build a fully connected feed forward network that adds two bits. Determine the a propper achitecture for this network (what database you use for this problem? how many layers? how many neurons on each layer? what is the activation function? what is the loss function? etc)\n",
    "\n",
    "Create at least 3 such networks and compare their performance (how accurate they are?, how farst they are trained to get at 1 accuracy?)\n",
    "\n",
    "Display for the best one the weights for each layer.\n"
   ]
  },
  {
   "cell_type": "code",
   "execution_count": 45,
   "id": "e3614e5f",
   "metadata": {
    "ExecuteTime": {
     "end_time": "2024-03-29T07:44:13.114514Z",
     "start_time": "2024-03-29T07:44:13.107788Z"
    }
   },
   "outputs": [],
   "source": [
    "import torch\n",
    "import torch.nn as nn\n",
    "from collections import OrderedDict\n"
   ]
  },
  {
   "cell_type": "code",
   "execution_count": 46,
   "id": "4fb16bbc",
   "metadata": {
    "ExecuteTime": {
     "end_time": "2024-03-29T07:44:14.860013Z",
     "start_time": "2024-03-29T07:44:14.554285Z"
    }
   },
   "outputs": [
    {
     "name": "stdout",
     "output_type": "stream",
     "text": [
      "tensor([[0., 0.],\n",
      "        [0., 1.],\n",
      "        [1., 0.],\n",
      "        [1., 1.]])\n",
      "tensor([[0., 0.],\n",
      "        [0., 1.],\n",
      "        [0., 1.],\n",
      "        [1., 0.]])\n",
      "Model 1 reached 100% accuracy at epoch 4\n",
      "Model Accuracy: 1.0%\n",
      "Model weights:\n",
      "hidden.weight tensor([[ 0.4123, -0.6766],\n",
      "        [ 0.1021,  0.3456],\n",
      "        [-0.6455,  0.0973]])\n",
      "hidden.bias tensor([-0.3381,  0.6380,  0.4902])\n",
      "output.weight tensor([[ 0.4959,  0.2903, -0.5675],\n",
      "        [-0.2456, -0.0079,  0.1364]])\n",
      "output.bias tensor([ 0.3330, -0.0015])\n"
     ]
    }
   ],
   "source": [
    "model1 = nn.Sequential(OrderedDict([\n",
    "    ('hidden', nn.Linear(2, 3)),  # first hidden layer with 3 neurons\n",
    "    ('sigmoid', nn.Sigmoid()),    # sigmoid activation function\n",
    "    ('output', nn.Linear(3, 2)),  # output layer with 2 neurons\n",
    "    ('sigmoid', nn.Sigmoid())     # sigmoid activation function\n",
    "]))\n",
    "\n",
    "data_in1 = torch.tensor([[0, 0], [0, 1], [1, 0], [1, 1]], dtype=torch.float)\n",
    "print(data_in1)\n",
    "\n",
    "data_target1 = torch.tensor([[0, 0], [0, 1], [0, 1], [1, 0]], dtype=torch.float)\n",
    "print(data_target1)\n",
    "\n",
    "criterion1 = nn.MSELoss()\n",
    "optimizer1 = torch.optim.SGD(model1.parameters(), lr=0.1)\n",
    "\n",
    "# train the model\n",
    "losses1 = []\n",
    "for epoch in range(10000):\n",
    "    # reset the gradients to zero before each forward and backward pass\n",
    "    optimizer1.zero_grad()\n",
    "    # forward pass\n",
    "    outputs1 = model1(data_in1)\n",
    "    # calculate loss\n",
    "    loss1 = criterion1(outputs1, data_target1)\n",
    "    # backward pass\n",
    "    loss1.backward()\n",
    "    # update weights\n",
    "    optimizer1.step()\n",
    "    losses1.append(loss1.item())\n",
    "\n",
    "    # accuracy\n",
    "    predicted_classes1 = (outputs1.round() == data_target1)\n",
    "    accuracy1 = predicted_classes1.sum().item() / len(data_target1)\n",
    "    if accuracy1 == 1:\n",
    "        print(f\"Model 1 reached 100% accuracy at epoch {epoch+1}\")\n",
    "        break\n",
    "\n",
    "\n",
    "# visualize the resuts\n",
    "predicted = torch.round(outputs1)\n",
    "correct = (predicted == data_target1).sum()\n",
    "total = data_target1.size(0)\n",
    "accuracy = correct / total\n",
    "print(f'Model Accuracy: {accuracy}%')\n",
    "\n",
    "\n",
    "# print model wights\n",
    "print(f\"Model weights:\")\n",
    "for name, param in model1.named_parameters():\n",
    "    if param.requires_grad:\n",
    "        print(name, param.data)"
   ]
  },
  {
   "cell_type": "code",
   "execution_count": 47,
   "id": "c1a7518b",
   "metadata": {
    "ExecuteTime": {
     "end_time": "2024-03-29T07:44:21.930404Z",
     "start_time": "2024-03-29T07:44:21.709987Z"
    }
   },
   "outputs": [
    {
     "name": "stdout",
     "output_type": "stream",
     "text": [
      "tensor([[0., 0.],\n",
      "        [0., 1.],\n",
      "        [1., 0.],\n",
      "        [1., 1.]])\n",
      "tensor([[0., 0.],\n",
      "        [0., 1.],\n",
      "        [0., 1.],\n",
      "        [1., 0.]])\n",
      "Model 1 reached 100% accuracy at epoch 298\n",
      "tensor([[0.2742, 0.5000],\n",
      "        [0.3408, 0.4868],\n",
      "        [0.2950, 0.4957],\n",
      "        [0.3840, 0.4789]], grad_fn=<SigmoidBackward0>)\n",
      "Model Accuracy: 1.0%\n",
      "Model weights:\n",
      "hidden.weight tensor([[ 0.4888, -0.2264],\n",
      "        [-0.0198,  0.3840],\n",
      "        [ 0.3584,  0.7608]])\n",
      "hidden.bias tensor([-0.5569, -0.4647, -0.1624])\n",
      "output.weight tensor([[-0.4523,  0.3053,  0.5266],\n",
      "        [ 0.1008, -0.4131, -0.0889]])\n",
      "output.bias tensor([-9.7462e-01,  2.5743e-04])\n"
     ]
    }
   ],
   "source": [
    "model1 = nn.Sequential(OrderedDict([\n",
    "    ('hidden', nn.Linear(2, 3)),  # first hidden layer with 3 neurons\n",
    "    ('ReLU', nn.ReLU()),          # relu activation function\n",
    "    ('output', nn.Linear(3, 2)),  # output layer with 3 neurons\n",
    "    ('sigmoid', nn.Sigmoid())     # sigmoid activation function\n",
    "]))\n",
    "\n",
    "data_in1 = torch.tensor([[0, 0], [0, 1], [1, 0], [1, 1]], dtype=torch.float)\n",
    "print(data_in1)\n",
    "\n",
    "data_target1 = torch.tensor([[0, 0], [0, 1], [0, 1], [1, 0]], dtype=torch.float)\n",
    "print(data_target1)\n",
    "\n",
    "criterion1 = nn.MSELoss()\n",
    "optimizer1 = torch.optim.SGD(model1.parameters(), lr=0.1)\n",
    "\n",
    "# train the model\n",
    "losses1 = []\n",
    "for epoch in range(1000):\n",
    "    # reset the gradients to zero before each forward and backward pass\n",
    "    optimizer1.zero_grad()\n",
    "    outputs1 = model1(data_in1) # forward pass\n",
    "    loss1 = criterion1(outputs1, data_target1) # calculate loss\n",
    "    loss1.backward()          # backward pass\n",
    "    optimizer1.step()         # update weights\n",
    "    losses1.append(loss1.item())\n",
    "    predicted_classes1 = (outputs1.round() == data_target1)\n",
    "    accuracy1 = predicted_classes1.sum().item() / len(data_target1)\n",
    "    if accuracy1 == 1:\n",
    "        print(f\"Model 1 reached 100% accuracy at epoch {epoch+1}\")\n",
    "        break\n",
    "\n",
    "# visualize the results\n",
    "print(outputs1)\n",
    "predicted = torch.round(outputs1)\n",
    "correct = (predicted == data_target1).sum()\n",
    "total = data_target1.size(0)\n",
    "accuracy = correct / total\n",
    "print(f'Model Accuracy: {accuracy}%')\n",
    "\n",
    "# print model wights\n",
    "print(f\"Model weights:\")\n",
    "for name, param in model1.named_parameters():\n",
    "    if param.requires_grad:\n",
    "        print(name, param.data)\n",
    "\n"
   ]
  },
  {
   "cell_type": "code",
   "execution_count": 48,
   "id": "4cdf09ba",
   "metadata": {
    "ExecuteTime": {
     "end_time": "2024-03-29T07:44:25.688392Z",
     "start_time": "2024-03-29T07:44:25.662903Z"
    }
   },
   "outputs": [
    {
     "name": "stdout",
     "output_type": "stream",
     "text": [
      "tensor([[0., 0.],\n",
      "        [0., 1.],\n",
      "        [1., 0.],\n",
      "        [1., 1.]])\n",
      "tensor([[0., 0.],\n",
      "        [0., 1.],\n",
      "        [0., 1.],\n",
      "        [1., 0.]])\n",
      "Model 1 reached 100% accuracy at epoch 4\n",
      "tensor([[-0.2733, -0.4287],\n",
      "        [-0.2532, -0.5218],\n",
      "        [-0.0178, -0.4350],\n",
      "        [ 0.0038, -0.5274]], grad_fn=<TanhBackward0>)\n",
      "Model Accuracy: 1.0%\n",
      "Model weights:\n",
      "hidden.weight tensor([[-0.0371,  0.1136],\n",
      "        [ 0.2278,  0.2114],\n",
      "        [-0.4153,  0.3724]])\n",
      "hidden.bias tensor([0.4258, 0.1799, 0.5295])\n",
      "output.weight tensor([[ 0.3904,  0.6136, -0.3377],\n",
      "        [-0.1301, -0.2483, -0.0785]])\n",
      "output.bias tensor([-0.3080, -0.1983])\n"
     ]
    }
   ],
   "source": [
    "model1 = nn.Sequential(OrderedDict([\n",
    "    ('hidden', nn.Linear(2, 3)),  # first hidden layer with 3 neurons\n",
    "    ('ReLU', nn.ReLU()),          # relu activation function\n",
    "    ('output', nn.Linear(3, 2)),  # output layer with 3 neurons\n",
    "    ('tanh', nn.Tanh())     # sigmoid activation function\n",
    "]))\n",
    "\n",
    "data_in1 = torch.tensor([[0, 0], [0, 1], [1, 0], [1, 1]], dtype=torch.float)\n",
    "print(data_in1)\n",
    "\n",
    "data_target1 = torch.tensor([[0, 0], [0, 1], [0, 1], [1, 0]], dtype=torch.float)\n",
    "print(data_target1)\n",
    "\n",
    "criterion1 = nn.MSELoss()\n",
    "optimizer1 = torch.optim.SGD(model1.parameters(), lr=0.1)\n",
    "\n",
    "# train the model\n",
    "losses1 = []\n",
    "for epoch in range(1000):\n",
    "    # reset the gradients to zero before each forward and backward pass\n",
    "    optimizer1.zero_grad()\n",
    "    outputs1 = model1(data_in1) # forward pass\n",
    "    loss1 = criterion1(outputs1, data_target1) # calculate loss\n",
    "    loss1.backward()          # backward pass\n",
    "    optimizer1.step()         # update weights\n",
    "    losses1.append(loss1.item())\n",
    "    predicted_classes1 = (outputs1.round() == data_target1)\n",
    "    accuracy1 = predicted_classes1.sum().item() / len(data_target1)\n",
    "    if accuracy1 == 1:\n",
    "        print(f\"Model 1 reached 100% accuracy at epoch {epoch+1}\")\n",
    "        break\n",
    "\n",
    "# visualize the results\n",
    "print(outputs1)\n",
    "predicted = torch.round(outputs1)\n",
    "correct = (predicted == data_target1).sum()\n",
    "total = data_target1.size(0)\n",
    "accuracy = correct / total\n",
    "print(f'Model Accuracy: {accuracy}%')\n",
    "\n",
    "# print model wights\n",
    "print(f\"Model weights:\")\n",
    "for name, param in model1.named_parameters():\n",
    "    if param.requires_grad:\n",
    "        print(name, param.data)"
   ]
  },
  {
   "cell_type": "code",
   "execution_count": null,
   "id": "d0bea66c",
   "metadata": {
    "is_executing": true
   },
   "outputs": [],
   "source": []
  },
  {
   "cell_type": "code",
   "execution_count": null,
   "id": "e29c65a2",
   "metadata": {
    "is_executing": true
   },
   "outputs": [],
   "source": []
  }
 ],
 "metadata": {
  "kernelspec": {
   "display_name": "Python 3 (ipykernel)",
   "language": "python",
   "name": "python3"
  },
  "language_info": {
   "codemirror_mode": {
    "name": "ipython",
    "version": 3
   },
   "file_extension": ".py",
   "mimetype": "text/x-python",
   "name": "python",
   "nbconvert_exporter": "python",
   "pygments_lexer": "ipython3",
   "version": "3.9.13"
  }
 },
 "nbformat": 4,
 "nbformat_minor": 5
}
